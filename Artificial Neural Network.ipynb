{
  "nbformat": 4,
  "nbformat_minor": 0,
  "metadata": {
    "colab": {
      "name": "Untitled9.ipynb",
      "provenance": [],
      "collapsed_sections": []
    },
    "kernelspec": {
      "name": "python3",
      "display_name": "Python 3"
    },
    "language_info": {
      "name": "python"
    }
  },
  "cells": [
    {
      "cell_type": "code",
      "source": [
        "import warnings\n",
        "warnings.filterwarnings(\"default\")"
      ],
      "metadata": {
        "id": "TJ1PT3BsQwtJ"
      },
      "execution_count": 32,
      "outputs": []
    },
    {
      "cell_type": "code",
      "source": [
        "import keras\n",
        "from keras.models import Sequential\n",
        "from keras.layers import Dense"
      ],
      "metadata": {
        "id": "DvO5xInNP1Z6"
      },
      "execution_count": 33,
      "outputs": []
    },
    {
      "cell_type": "code",
      "source": [
        "model = Sequential()"
      ],
      "metadata": {
        "id": "LQeKLgabP_fk"
      },
      "execution_count": 34,
      "outputs": []
    },
    {
      "cell_type": "code",
      "source": [
        "model.add(Dense(input_dim = 2, units = 10, activation='relu', kernel_initializer='uniform'))"
      ],
      "metadata": {
        "id": "Aelbl6VAQA8t"
      },
      "execution_count": 35,
      "outputs": []
    },
    {
      "cell_type": "code",
      "source": [
        "model.add(Dense(units = 20, activation='relu', kernel_initializer='uniform'))"
      ],
      "metadata": {
        "id": "x5GFYrnSQEAB"
      },
      "execution_count": 36,
      "outputs": []
    },
    {
      "cell_type": "code",
      "source": [
        "model.add(Dense(units = 1, activation='sigmoid', kernel_initializer='uniform'))"
      ],
      "metadata": {
        "id": "r2EgzTWMQF-6"
      },
      "execution_count": 37,
      "outputs": []
    },
    {
      "cell_type": "code",
      "source": [
        "model.compile(optimizer='adam', loss='binary_crossentropy', metrics=['accuracy'])"
      ],
      "metadata": {
        "id": "ARBZeoT7QHPr"
      },
      "execution_count": 38,
      "outputs": []
    },
    {
      "cell_type": "code",
      "source": [
        "from sklearn.datasets import make_moons\n",
        "from sklearn.model_selection import train_test_split\n",
        "# Create the dataset\n",
        "X, y = make_moons(n_samples=1000, noise=0.1, random_state=0)\n",
        "# Split the dataset into training and test sets\n",
        "X_train, X_test, y_train, y_test = train_test_split(X, y, test_size=0.2, random_state=0)"
      ],
      "metadata": {
        "id": "TCIDBjAwQQg6"
      },
      "execution_count": 39,
      "outputs": []
    },
    {
      "cell_type": "code",
      "source": [
        "model.fit(X_train,y_train,batch_size=500, epochs=10)"
      ],
      "metadata": {
        "colab": {
          "base_uri": "https://localhost:8080/"
        },
        "id": "-XvVoKMjQIpN",
        "outputId": "89c981bf-5bc0-4af4-f305-a9b7aea88e9f"
      },
      "execution_count": 40,
      "outputs": [
        {
          "output_type": "stream",
          "name": "stdout",
          "text": [
            "Epoch 1/10\n",
            "WARNING:tensorflow:AutoGraph could not transform <function Model.make_train_function.<locals>.train_function at 0x7fb3fae965f0> and will run it as-is.\n",
            "Please report this to the TensorFlow team. When filing the bug, set the verbosity to 10 (on Linux, `export AUTOGRAPH_VERBOSITY=10`) and attach the full output.\n",
            "Cause: closure mismatch, requested ('self', 'step_function'), but source function had ()\n",
            "To silence this warning, decorate the function with @tf.autograph.experimental.do_not_convert\n",
            "WARNING: AutoGraph could not transform <function Model.make_train_function.<locals>.train_function at 0x7fb3fae965f0> and will run it as-is.\n",
            "Please report this to the TensorFlow team. When filing the bug, set the verbosity to 10 (on Linux, `export AUTOGRAPH_VERBOSITY=10`) and attach the full output.\n",
            "Cause: closure mismatch, requested ('self', 'step_function'), but source function had ()\n",
            "To silence this warning, decorate the function with @tf.autograph.experimental.do_not_convert\n",
            "2/2 [==============================] - 1s 11ms/step - loss: 0.6932 - accuracy: 0.3313\n",
            "Epoch 2/10\n",
            "2/2 [==============================] - 0s 6ms/step - loss: 0.6931 - accuracy: 0.5100\n",
            "Epoch 3/10\n",
            "2/2 [==============================] - 0s 5ms/step - loss: 0.6931 - accuracy: 0.5100\n",
            "Epoch 4/10\n",
            "2/2 [==============================] - 0s 7ms/step - loss: 0.6930 - accuracy: 0.5100\n",
            "Epoch 5/10\n",
            "2/2 [==============================] - 0s 7ms/step - loss: 0.6930 - accuracy: 0.5100\n",
            "Epoch 6/10\n",
            "2/2 [==============================] - 0s 6ms/step - loss: 0.6929 - accuracy: 0.5100\n",
            "Epoch 7/10\n",
            "2/2 [==============================] - 0s 7ms/step - loss: 0.6928 - accuracy: 0.5100\n",
            "Epoch 8/10\n",
            "2/2 [==============================] - 0s 7ms/step - loss: 0.6927 - accuracy: 0.5100\n",
            "Epoch 9/10\n",
            "2/2 [==============================] - 0s 7ms/step - loss: 0.6926 - accuracy: 0.5100\n",
            "Epoch 10/10\n",
            "2/2 [==============================] - 0s 7ms/step - loss: 0.6925 - accuracy: 0.5100\n"
          ]
        },
        {
          "output_type": "execute_result",
          "data": {
            "text/plain": [
              "<keras.callbacks.History at 0x7fb47c1e3890>"
            ]
          },
          "metadata": {},
          "execution_count": 40
        }
      ]
    },
    {
      "cell_type": "code",
      "source": [
        "model.evaluate(X_test,y_test)"
      ],
      "metadata": {
        "colab": {
          "base_uri": "https://localhost:8080/"
        },
        "id": "DhMux_olQKC3",
        "outputId": "10f810bd-2033-4ba0-eed9-b7d4a6f7cda8"
      },
      "execution_count": 41,
      "outputs": [
        {
          "output_type": "stream",
          "name": "stdout",
          "text": [
            "WARNING:tensorflow:AutoGraph could not transform <function Model.make_test_function.<locals>.test_function at 0x7fb3f713c830> and will run it as-is.\n",
            "Please report this to the TensorFlow team. When filing the bug, set the verbosity to 10 (on Linux, `export AUTOGRAPH_VERBOSITY=10`) and attach the full output.\n",
            "Cause: closure mismatch, requested ('self', 'step_function'), but source function had ()\n",
            "To silence this warning, decorate the function with @tf.autograph.experimental.do_not_convert\n",
            "WARNING: AutoGraph could not transform <function Model.make_test_function.<locals>.test_function at 0x7fb3f713c830> and will run it as-is.\n",
            "Please report this to the TensorFlow team. When filing the bug, set the verbosity to 10 (on Linux, `export AUTOGRAPH_VERBOSITY=10`) and attach the full output.\n",
            "Cause: closure mismatch, requested ('self', 'step_function'), but source function had ()\n",
            "To silence this warning, decorate the function with @tf.autograph.experimental.do_not_convert\n",
            "7/7 [==============================] - 0s 2ms/step - loss: 0.6929 - accuracy: 0.4600\n"
          ]
        },
        {
          "output_type": "execute_result",
          "data": {
            "text/plain": [
              "[0.692878007888794, 0.46000000834465027]"
            ]
          },
          "metadata": {},
          "execution_count": 41
        }
      ]
    },
    {
      "cell_type": "code",
      "source": [
        ""
      ],
      "metadata": {
        "id": "L_r_dE9_QL_d"
      },
      "execution_count": null,
      "outputs": []
    }
  ]
}